{
 "cells": [
  {
   "cell_type": "code",
   "execution_count": 1,
   "metadata": {},
   "outputs": [],
   "source": [
    "import numpy\n",
    "import matplotlib.pyplot"
   ]
  },
  {
   "cell_type": "code",
   "execution_count": 7,
   "metadata": {},
   "outputs": [],
   "source": [
    "class Dataset_Generate(object):\n",
    "    \"\"\"\n",
    "    input:scope, k\n",
    "    Scope is the number of train samples in the dataset.\n",
    "    Parameter \"k\" is the slope of target function.\n",
    "    Parameter \"b\" is the intercept of the taget function.\n",
    "    \"\"\"\n",
    "    def __init__(self, scope, k, b):\n",
    "        self.k = k\n",
    "        self.b = b\n",
    "        self.scope = scope\n",
    "        x = numpy.linspace(0, 1, num=self.scope)\n",
    "        x = numpy.expand_dims(x, axis=1)\n",
    "        self.y = self.k * x + self.b + numpy.expand_dims(numpy.random.rand(numpy.size(x)) - 0.5, axis=1)\n",
    "#         print(x,self.y)\n",
    "#         print(numpy.random.rand(numpy.size(x)) - 1)\n",
    "        self.x = x\n",
    "    def plotit(self):\n",
    "        matplotlib.pyplot.scatter(self.x, self.y)\n",
    "        matplotlib.pyplot.show()\n",
    "    def return_data(self):\n",
    "        \"\"\"\n",
    "        The result is dictionary.\n",
    "        {x:,y:}\n",
    "        \"\"\"\n",
    "        return {x:self.x, y:self.y}"
   ]
  },
  {
   "cell_type": "code",
   "execution_count": 9,
   "metadata": {
    "scrolled": false
   },
   "outputs": [
    {
     "data": {
      "image/png": "[encoded data removed]",
      "text/plain": [
       "<Figure size 432x288 with 1 Axes>"
      ]
     },
     "metadata": {
      "needs_background": "light"
     },
     "output_type": "display_data"
    }
   ],
   "source": [
    "dataset_generate = Dataset_Generate(20, 2, 1)\n",
    "dataset_generate.plotit()"
   ]
  },
  {
   "cell_type": "code",
   "execution_count": null,
   "metadata": {},
   "outputs": [],
   "source": []
  }
 ],
 "metadata": {
  "kernelspec": {
   "display_name": "Python 3",
   "language": "python",
   "name": "python3"
  },
  "language_info": {
   "codemirror_mode": {
    "name": "ipython",
    "version": 3
   },
   "file_extension": ".py",
   "mimetype": "text/x-python",
   "name": "python",
   "nbconvert_exporter": "python",
   "pygments_lexer": "ipython3",
   "version": "3.8.3"
  },
  "varInspector": {
   "cols": {
    "lenName": 16,
    "lenType": 16,
    "lenVar": 40
   },
   "kernels_config": {
    "python": {
     "delete_cmd_postfix": "",
     "delete_cmd_prefix": "del ",
     "library": "var_list.py",
     "varRefreshCmd": "print(var_dic_list())"
    },
    "r": {
     "delete_cmd_postfix": ") ",
     "delete_cmd_prefix": "rm(",
     "library": "var_list.r",
     "varRefreshCmd": "cat(var_dic_list()) "
    }
   },
   "types_to_exclude": [
    "module",
    "function",
    "builtin_function_or_method",
    "instance",
    "_Feature"
   ],
   "window_display": false
  }
 },
 "nbformat": 4,
 "nbformat_minor": 4
}
