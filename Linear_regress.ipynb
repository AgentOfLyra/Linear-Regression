{
 "cells": [
  {
   "cell_type": "code",
   "execution_count": 1,
   "metadata": {},
   "outputs": [],
   "source": [
    "from Dataset_Generate import Dataset_Generate\n",
    "import numpy as np\n",
    "import matplotlib.pyplot as plt"
   ]
  },
  {
   "cell_type": "code",
   "execution_count": 2,
   "metadata": {},
   "outputs": [
    {
     "data": {
      "image/png": "[encoded data removed]",
      "text/plain": [
       "<Figure size 432x288 with 1 Axes>"
      ]
     },
     "metadata": {
      "needs_background": "light"
     },
     "output_type": "display_data"
    }
   ],
   "source": [
    "dataset_generate = Dataset_Generate(100, 2, 3)\n",
    "dataset_generate.plotit()"
   ]
  },
  {
   "cell_type": "code",
   "execution_count": 3,
   "metadata": {
    "scrolled": false
   },
   "outputs": [
    {
     "data": {
      "text/plain": [
       "{'x': array([[0.        ],\n",
       "        [0.01010101],\n",
       "        [0.02020202],\n",
       "        [0.03030303],\n",
       "        [0.04040404],\n",
       "        [0.05050505],\n",
       "        [0.06060606],\n",
       "        [0.07070707],\n",
       "        [0.08080808],\n",
       "        [0.09090909],\n",
       "        [0.1010101 ],\n",
       "        [0.11111111],\n",
       "        [0.12121212],\n",
       "        [0.13131313],\n",
       "        [0.14141414],\n",
       "        [0.15151515],\n",
       "        [0.16161616],\n",
       "        [0.17171717],\n",
       "        [0.18181818],\n",
       "        [0.19191919],\n",
       "        [0.2020202 ],\n",
       "        [0.21212121],\n",
       "        [0.22222222],\n",
       "        [0.23232323],\n",
       "        [0.24242424],\n",
       "        [0.25252525],\n",
       "        [0.26262626],\n",
       "        [0.27272727],\n",
       "        [0.28282828],\n",
       "        [0.29292929],\n",
       "        [0.3030303 ],\n",
       "        [0.31313131],\n",
       "        [0.32323232],\n",
       "        [0.33333333],\n",
       "        [0.34343434],\n",
       "        [0.35353535],\n",
       "        [0.36363636],\n",
       "        [0.37373737],\n",
       "        [0.38383838],\n",
       "        [0.39393939],\n",
       "        [0.4040404 ],\n",
       "        [0.41414141],\n",
       "        [0.42424242],\n",
       "        [0.43434343],\n",
       "        [0.44444444],\n",
       "        [0.45454545],\n",
       "        [0.46464646],\n",
       "        [0.47474747],\n",
       "        [0.48484848],\n",
       "        [0.49494949],\n",
       "        [0.50505051],\n",
       "        [0.51515152],\n",
       "        [0.52525253],\n",
       "        [0.53535354],\n",
       "        [0.54545455],\n",
       "        [0.55555556],\n",
       "        [0.56565657],\n",
       "        [0.57575758],\n",
       "        [0.58585859],\n",
       "        [0.5959596 ],\n",
       "        [0.60606061],\n",
       "        [0.61616162],\n",
       "        [0.62626263],\n",
       "        [0.63636364],\n",
       "        [0.64646465],\n",
       "        [0.65656566],\n",
       "        [0.66666667],\n",
       "        [0.67676768],\n",
       "        [0.68686869],\n",
       "        [0.6969697 ],\n",
       "        [0.70707071],\n",
       "        [0.71717172],\n",
       "        [0.72727273],\n",
       "        [0.73737374],\n",
       "        [0.74747475],\n",
       "        [0.75757576],\n",
       "        [0.76767677],\n",
       "        [0.77777778],\n",
       "        [0.78787879],\n",
       "        [0.7979798 ],\n",
       "        [0.80808081],\n",
       "        [0.81818182],\n",
       "        [0.82828283],\n",
       "        [0.83838384],\n",
       "        [0.84848485],\n",
       "        [0.85858586],\n",
       "        [0.86868687],\n",
       "        [0.87878788],\n",
       "        [0.88888889],\n",
       "        [0.8989899 ],\n",
       "        [0.90909091],\n",
       "        [0.91919192],\n",
       "        [0.92929293],\n",
       "        [0.93939394],\n",
       "        [0.94949495],\n",
       "        [0.95959596],\n",
       "        [0.96969697],\n",
       "        [0.97979798],\n",
       "        [0.98989899],\n",
       "        [1.        ]]),\n",
       " 'y': array([[3.14768535],\n",
       "        [2.9689323 ],\n",
       "        [3.51799287],\n",
       "        [2.88175766],\n",
       "        [3.1375356 ],\n",
       "        [3.25563838],\n",
       "        [3.27144205],\n",
       "        [2.95584135],\n",
       "        [3.2511253 ],\n",
       "        [3.38403755],\n",
       "        [3.59205668],\n",
       "        [3.08599474],\n",
       "        [2.97398382],\n",
       "        [3.27749252],\n",
       "        [3.72042206],\n",
       "        [3.2569142 ],\n",
       "        [3.52259914],\n",
       "        [3.77795101],\n",
       "        [3.31198075],\n",
       "        [3.25992361],\n",
       "        [2.94772191],\n",
       "        [3.84868645],\n",
       "        [3.08976964],\n",
       "        [3.72133604],\n",
       "        [3.38243652],\n",
       "        [3.49319224],\n",
       "        [3.58649738],\n",
       "        [3.06006889],\n",
       "        [3.51358592],\n",
       "        [3.37534973],\n",
       "        [3.43056694],\n",
       "        [3.36219903],\n",
       "        [3.24349185],\n",
       "        [3.64143157],\n",
       "        [3.65083309],\n",
       "        [3.4864228 ],\n",
       "        [3.2745677 ],\n",
       "        [3.49946584],\n",
       "        [4.13172253],\n",
       "        [3.85934485],\n",
       "        [3.78810681],\n",
       "        [4.17424331],\n",
       "        [4.18766977],\n",
       "        [3.85227246],\n",
       "        [3.49972601],\n",
       "        [4.18100783],\n",
       "        [4.16792813],\n",
       "        [4.03473683],\n",
       "        [3.96265523],\n",
       "        [4.17909814],\n",
       "        [4.44773785],\n",
       "        [3.58728614],\n",
       "        [4.00732649],\n",
       "        [4.46439785],\n",
       "        [3.92224767],\n",
       "        [4.54418567],\n",
       "        [4.62156516],\n",
       "        [4.0888148 ],\n",
       "        [3.70069353],\n",
       "        [4.64593795],\n",
       "        [4.36253738],\n",
       "        [4.45984948],\n",
       "        [4.14039668],\n",
       "        [4.29439342],\n",
       "        [4.64583974],\n",
       "        [4.12388236],\n",
       "        [4.55131051],\n",
       "        [4.45015716],\n",
       "        [4.05130632],\n",
       "        [4.34995931],\n",
       "        [4.69156998],\n",
       "        [4.71078469],\n",
       "        [4.20171223],\n",
       "        [4.76482944],\n",
       "        [4.00745541],\n",
       "        [4.15017955],\n",
       "        [4.6904651 ],\n",
       "        [4.42306735],\n",
       "        [4.38571891],\n",
       "        [4.60272298],\n",
       "        [4.75324517],\n",
       "        [4.39243219],\n",
       "        [4.90881045],\n",
       "        [4.84972516],\n",
       "        [4.97779174],\n",
       "        [5.19884809],\n",
       "        [4.78647833],\n",
       "        [4.38469784],\n",
       "        [5.15793525],\n",
       "        [4.79200347],\n",
       "        [4.9571477 ],\n",
       "        [4.90461353],\n",
       "        [4.68079675],\n",
       "        [5.31123098],\n",
       "        [4.53849426],\n",
       "        [4.6451833 ],\n",
       "        [4.53953842],\n",
       "        [4.86186324],\n",
       "        [5.23107502],\n",
       "        [4.58861225]])}"
      ]
     },
     "execution_count": 3,
     "metadata": {},
     "output_type": "execute_result"
    }
   ],
   "source": [
    "dataset = dataset_generate.return_data()\n",
    "dataset"
   ]
  },
  {
   "cell_type": "code",
   "execution_count": 4,
   "metadata": {},
   "outputs": [],
   "source": [
    "class Linear_regress(object):\n",
    "    def __init__(self, dataset, learning_rate = 0.01, epoches = 1000):\n",
    "        self.x = dataset[\"x\"]\n",
    "        self.y = dataset[\"y\"]\n",
    "        self.k = np.random.normal(1, 0.1)\n",
    "        self.b = np.random.normal(1, 0.1)\n",
    "        self.epoches = epoches\n",
    "        self.learning_rate = learning_rate\n",
    "        self.loss_arr = []\n",
    "        \n",
    "#     def standard_regression(self):\n",
    "#         XT = self.X.T\n",
    "#         YT = self.Y.T\n",
    "#         XTX = XT * self.X\n",
    "#         if np.linalg.det(XTX) == 0:\n",
    "#             print(\"det(XTX) == 0\")\n",
    "#             return\n",
    "#         self.ws = XTX.I * XT * self.y\n",
    "    \n",
    "    \n",
    "    def loss_function(self):\n",
    "        loss = np.mean((self.y - self.k * self.x - self.b)**2)\n",
    "        return loss\n",
    "    \n",
    "    def calc_gradient(self):\n",
    "        dk = np.mean((self.k * self.x + self.b - self.y) * self.y)\n",
    "        db = np.mean((self.k * self.x + self.b - self.y))\n",
    "        return dk, db\n",
    "    \n",
    "    def gradient_decress(self):\n",
    "        \n",
    "        for epoch in range(self.epoches):\n",
    "#             调用方法 ——计算梯度\n",
    "            dk, db = self.calc_gradient()\n",
    "            self.k = self.k - self.learning_rate * dk\n",
    "            self.b = self.b - self.learning_rate * db\n",
    "            \n",
    "#             调用方法 ——计算损失函数\n",
    "            loss = self.loss_function()\n",
    "            self.loss_arr.append(loss)\n",
    "        return loss\n",
    "    "
   ]
  },
  {
   "cell_type": "code",
   "execution_count": 5,
   "metadata": {},
   "outputs": [
    {
     "data": {
      "text/plain": [
       "1.117340917545058"
      ]
     },
     "execution_count": 5,
     "metadata": {},
     "output_type": "execute_result"
    }
   ],
   "source": [
    "np.random.normal(1, 0.1)"
   ]
  },
  {
   "cell_type": "code",
   "execution_count": 6,
   "metadata": {},
   "outputs": [
    {
     "data": {
      "text/plain": [
       "100"
      ]
     },
     "execution_count": 6,
     "metadata": {},
     "output_type": "execute_result"
    }
   ],
   "source": [
    "np.size(dataset[\"x\"])"
   ]
  },
  {
   "cell_type": "code",
   "execution_count": 7,
   "metadata": {},
   "outputs": [],
   "source": [
    "linear_regression = Linear_regress(dataset, learning_rate=0.01, epoches=1000)\n",
    "loss = linear_regression.gradient_decress()\n"
   ]
  },
  {
   "cell_type": "code",
   "execution_count": 8,
   "metadata": {},
   "outputs": [
    {
     "name": "stdout",
     "output_type": "stream",
     "text": [
      "cost: \t0.281\n",
      "f=3.5 x + 2.2\n"
     ]
    },
    {
     "data": {
      "image/png": "[encoded data removed]",
      "text/plain": [
       "<Figure size 432x288 with 1 Axes>"
      ]
     },
     "metadata": {
      "needs_background": "light"
     },
     "output_type": "display_data"
    }
   ],
   "source": [
    "print(f'cost: \\t{loss:.3}')\n",
    "print(f\"f={linear_regression.k:.2} x + {linear_regression.b:.2}\")\n",
    "plt.scatter(np.arange(len(linear_regression.loss_arr)), linear_regression.loss_arr, marker='o', c='green')\n",
    "plt.show()\n"
   ]
  },
  {
   "cell_type": "code",
   "execution_count": 9,
   "metadata": {
    "scrolled": false
   },
   "outputs": [
    {
     "name": "stdout",
     "output_type": "stream",
     "text": [
      "cost: \t0.0785\n",
      "f=3.7 x + 1.2\n"
     ]
    },
    {
     "data": {
      "image/png": "[encoded data removed]",
      "text/plain": [
       "<Figure size 432x288 with 1 Axes>"
      ]
     },
     "metadata": {
      "needs_background": "light"
     },
     "output_type": "display_data"
    },
    {
     "data": {
      "image/png": "[encoded data removed]",
      "text/plain": [
       "<Figure size 432x288 with 1 Axes>"
      ]
     },
     "metadata": {
      "needs_background": "light"
     },
     "output_type": "display_data"
    }
   ],
   "source": [
    "dataset_generate = Dataset_Generate(20, 4, 1)\n",
    "dataset = dataset_generate.return_data()\n",
    "linear_regression = Linear_regress(dataset, learning_rate=0.01, epoches=1000)\n",
    "loss = linear_regression.gradient_decress()\n",
    "print(f'cost: \\t{loss:.3}')\n",
    "print(f\"f={linear_regression.k:.2} x + {linear_regression.b:.2}\")\n",
    "plt.scatter(np.arange(len(linear_regression.loss_arr)), linear_regression.loss_arr, marker='o', c='green')\n",
    "plt.show()\n",
    "plt.plot(linear_regression.x, linear_regression.k * linear_regression.x + linear_regression.b)\n",
    "dataset_generate.plotit()"
   ]
  },
  {
   "cell_type": "code",
   "execution_count": null,
   "metadata": {},
   "outputs": [],
   "source": []
  }
 ],
 "metadata": {
  "kernelspec": {
   "display_name": "Python 3",
   "language": "python",
   "name": "python3"
  },
  "language_info": {
   "codemirror_mode": {
    "name": "ipython",
    "version": 3
   },
   "file_extension": ".py",
   "mimetype": "text/x-python",
   "name": "python",
   "nbconvert_exporter": "python",
   "pygments_lexer": "ipython3",
   "version": "3.8.3"
  },
  "varInspector": {
   "cols": {
    "lenName": 16,
    "lenType": 16,
    "lenVar": 40
   },
   "kernels_config": {
    "python": {
     "delete_cmd_postfix": "",
     "delete_cmd_prefix": "del ",
     "library": "var_list.py",
     "varRefreshCmd": "print(var_dic_list())"
    },
    "r": {
     "delete_cmd_postfix": ") ",
     "delete_cmd_prefix": "rm(",
     "library": "var_list.r",
     "varRefreshCmd": "cat(var_dic_list()) "
    }
   },
   "types_to_exclude": [
    "module",
    "function",
    "builtin_function_or_method",
    "instance",
    "_Feature"
   ],
   "window_display": false
  }
 },
 "nbformat": 4,
 "nbformat_minor": 4
}
